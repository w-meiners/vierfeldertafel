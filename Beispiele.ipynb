{
 "cells": [
  {
   "cell_type": "markdown",
   "metadata": {},
   "source": [
    "# Notwendige Importe\n",
    "\n",
    "Die nächste Zelle muss ausgeführt werden. Sinnvoll ist es, vorher einmal das Menü \n",
    "\n",
    "`cell | All Output | Clear`\n",
    "\n",
    "aufzurufen. Dadurch werden alle Ausgaben gelöscht. Sonst sieht man nicht mehr, ob eine bestimmte Zelle schon ausgeführt wurde."
   ]
  },
  {
   "cell_type": "code",
   "execution_count": null,
   "metadata": {},
   "outputs": [],
   "source": [
    "from sympy import *\n",
    "init_printing()\n",
    "\n",
    "from vierfeldertafel_v01 import Vierfelder_Tafel"
   ]
  },
  {
   "cell_type": "markdown",
   "metadata": {},
   "source": [
    "# Voraussetzungen\n",
    "\n",
    "**Ereignisse** werden immer mit $A$ und $B$ bezeichnet. Zusätzlich gibt es die **Gegenereignisse** $\\bar{A}$ und $\\bar{B}$.\n",
    "\n",
    "Die Wahrscheinlichkeiten werden nach einem bestimmten Schema benannt:\n",
    "\n",
    "**Grundwahrscheinlichkeiten**\n",
    "\n",
    "- $P(A)$: `a1`, $P(\\bar{A})$: `a2`\n",
    "- $P(B)$: `b1`, $P(\\bar{B})$: `b2`"
   ]
  },
  {
   "cell_type": "markdown",
   "metadata": {},
   "source": [
    "**Schnittwahrscheinlichkeiten**\n",
    "\n",
    "- $P(A\\cap B)$: `a1b1`\n",
    "- $P(\\bar{A}\\cap B)$: `a2b1`\n",
    "- $P(A\\cap \\bar{B})$: `a1b2`\n",
    "- $P(\\bar{A}\\cap \\bar{B})$: `a2b2`"
   ]
  },
  {
   "cell_type": "markdown",
   "metadata": {},
   "source": [
    "**Bedingte Wahrscheinlichkeiten:**\n",
    "\n",
    "- $P_A(B)$: `b1_a1`\n",
    "- $P_{\\bar{A}}(B)$: `b1_a2`\n",
    "- $P_B(A)$: `a1_b1`\n",
    "- $P_{\\bar{B}}(\\bar{A})$: `b2_a2`\n",
    "\n",
    "**Achtung:** Hier ändert sich die Reihenfolge in der Schreibweise!"
   ]
  },
  {
   "cell_type": "markdown",
   "metadata": {},
   "source": [
    "# Erstes Beispiel:\n",
    "\n",
    "- $P(A) = 0.3$,\n",
    "- $P_A(B) = 0.4$\n",
    "- $P_{\\bar A}(\\bar{B}) = 0.7$"
   ]
  },
  {
   "cell_type": "code",
   "execution_count": null,
   "metadata": {},
   "outputs": [],
   "source": [
    "v = Vierfelder_Tafel(\n",
    "    a1=0.3,\n",
    "    b1_a1=0.4,\n",
    "    b2_a2=0.7\n",
    ")\n",
    "\n",
    "v.anzahl_loesungen"
   ]
  },
  {
   "cell_type": "markdown",
   "metadata": {},
   "source": [
    "Nach Eingabe der Werte sollte man immer die Anzahl der Lösungen überprüfen. In den meisten Fällen gibt es nur eine Lösung. Es gibt aber auch Fälle, in denen mehr als eine Lösung existieren kann.\n",
    "\n",
    "Die Lösungen werden -beginnend mit 0- durchnummeriert. Der vollständige Aufruf zur Ausgabe einer Vierfeldertafel lautet:\n",
    "\n",
    "`v.tafel(loesung_idx=0,digits=None)`\n",
    "\n",
    "Die Methode `v.tafel()` hat zwei optionale Argumente, nämlich der Index der Lösung (in der Regel 0) und die Anzahl der Ziffern (`digits`). Wird hier nichts angegeben, so wird mit der Standardgenauigkeit gerechnet."
   ]
  },
  {
   "cell_type": "code",
   "execution_count": null,
   "metadata": {},
   "outputs": [],
   "source": [
    "v.tafel(digits=5)"
   ]
  },
  {
   "cell_type": "markdown",
   "metadata": {},
   "source": [
    "Manchmal möchte man die Zeilen und Spalten vertauschen. Das geht über die Mehode `T`:"
   ]
  },
  {
   "cell_type": "code",
   "execution_count": null,
   "metadata": {},
   "outputs": [],
   "source": [
    "v.tafel(digits=5).T"
   ]
  },
  {
   "cell_type": "markdown",
   "metadata": {},
   "source": [
    "Für eine Vierfeldertafel gibt es immer zwei Wahrscheinlichkeitsbäume. Der eine geht von den Ereignissen $A$ und $\\bar{A}$ aus, der andere von den Ereignissen $B$ und $\\bar{B}$."
   ]
  },
  {
   "cell_type": "code",
   "execution_count": null,
   "metadata": {},
   "outputs": [],
   "source": [
    "v.tree_a(digits=5)"
   ]
  },
  {
   "cell_type": "code",
   "execution_count": null,
   "metadata": {},
   "outputs": [],
   "source": [
    "v.tree_b(digits=5)"
   ]
  },
  {
   "cell_type": "markdown",
   "metadata": {},
   "source": [
    "# Zweites Beispiel\n",
    "\n",
    "- $P(A) = \\frac{1}{3}$\n",
    "- $P_A(B) = \\frac{1}{4}$\n",
    "- $P_B(A) = \\frac{1}{5}$\n"
   ]
  },
  {
   "cell_type": "code",
   "execution_count": null,
   "metadata": {},
   "outputs": [],
   "source": [
    "v = Vierfelder_Tafel(\n",
    "    a1 = Rational(1,3),\n",
    "    b1_a1 = Rational(1,4),\n",
    "    a1_b1 = Rational(1,5)\n",
    ")\n",
    "v.anzahl_loesungen"
   ]
  },
  {
   "cell_type": "code",
   "execution_count": null,
   "metadata": {},
   "outputs": [],
   "source": [
    "v.tafel()"
   ]
  },
  {
   "cell_type": "code",
   "execution_count": null,
   "metadata": {},
   "outputs": [],
   "source": [
    "v.tree_a()"
   ]
  },
  {
   "cell_type": "code",
   "execution_count": null,
   "metadata": {},
   "outputs": [],
   "source": [
    "v.tree_b()"
   ]
  }
 ],
 "metadata": {
  "kernelspec": {
   "display_name": "Python 3",
   "language": "python",
   "name": "python3"
  },
  "language_info": {
   "codemirror_mode": {
    "name": "ipython",
    "version": 3
   },
   "file_extension": ".py",
   "mimetype": "text/x-python",
   "name": "python",
   "nbconvert_exporter": "python",
   "pygments_lexer": "ipython3",
   "version": "3.8.5"
  }
 },
 "nbformat": 4,
 "nbformat_minor": 4
}
