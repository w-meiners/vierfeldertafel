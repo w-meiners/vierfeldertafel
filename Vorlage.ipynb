{
 "cells": [
  {
   "cell_type": "code",
   "execution_count": null,
   "metadata": {},
   "outputs": [],
   "source": [
    "from sympy import *\n",
    "init_printing()\n",
    "\n",
    "from vierfeldertafel_v01 import Vierfelder_Tafel"
   ]
  },
  {
   "cell_type": "markdown",
   "metadata": {},
   "source": [
    "# Beispiel:\n",
    "\n",
    "| Wahrscheinlichkeit           | Variable     |\n",
    "|----------------------------- |--------------|\n",
    "|$P(A) = 0.5$                  | `a1=0.5`,    |\n",
    "|$P_A(B) = 0.25$               | `b1_a1=0.25`,|\n",
    "|$P_{\\bar{A}}(\\bar{B}) = 0.40$ | `b2_a2=0.40` |"
   ]
  },
  {
   "cell_type": "code",
   "execution_count": null,
   "metadata": {},
   "outputs": [],
   "source": [
    "v = Vierfelder_Tafel(\n",
    "    a1 = 0.5, \n",
    "    b1_a1 = 0.25, \n",
    "    b2_a2 = 0.40 \n",
    ")\n",
    "\n",
    "v.anzahl_loesungen"
   ]
  },
  {
   "cell_type": "code",
   "execution_count": null,
   "metadata": {},
   "outputs": [],
   "source": [
    "v.tafel(digits=5)"
   ]
  },
  {
   "cell_type": "code",
   "execution_count": null,
   "metadata": {},
   "outputs": [],
   "source": [
    "v.tree_a(digits=5)"
   ]
  },
  {
   "cell_type": "code",
   "execution_count": null,
   "metadata": {},
   "outputs": [],
   "source": [
    "v.tree_b(digits=5)"
   ]
  },
  {
   "cell_type": "code",
   "execution_count": null,
   "metadata": {},
   "outputs": [],
   "source": [
    "v.get_value(v.b2_a1) # P_A(B̄)"
   ]
  },
  {
   "cell_type": "markdown",
   "metadata": {},
   "source": [
    "**Häufig benötigt:**\n",
    "\n",
    "A&#x0304; B&#x0304; &#x2229;"
   ]
  },
  {
   "cell_type": "code",
   "execution_count": null,
   "metadata": {},
   "outputs": [],
   "source": [
    "print('A\\u0304, B\\u0304, \\u2229')"
   ]
  }
 ],
 "metadata": {
  "kernelspec": {
   "display_name": "Python 3",
   "language": "python",
   "name": "python3"
  },
  "language_info": {
   "codemirror_mode": {
    "name": "ipython",
    "version": 3
   },
   "file_extension": ".py",
   "mimetype": "text/x-python",
   "name": "python",
   "nbconvert_exporter": "python",
   "pygments_lexer": "ipython3",
   "version": "3.8.5"
  }
 },
 "nbformat": 4,
 "nbformat_minor": 4
}
